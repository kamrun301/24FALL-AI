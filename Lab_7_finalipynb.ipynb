{
  "nbformat": 4,
  "nbformat_minor": 0,
  "metadata": {
    "colab": {
      "provenance": [],
      "authorship_tag": "ABX9TyMtqULVFCNnxJZU0EzEezOM",
      "include_colab_link": true
    },
    "kernelspec": {
      "name": "python3",
      "display_name": "Python 3"
    },
    "language_info": {
      "name": "python"
    }
  },
  "cells": [
    {
      "cell_type": "markdown",
      "metadata": {
        "id": "view-in-github",
        "colab_type": "text"
      },
      "source": [
        "<a href=\"https://colab.research.google.com/github/kamrun301/24FALL-AI/blob/main/Lab_7_finalipynb.ipynb\" target=\"_parent\"><img src=\"https://colab.research.google.com/assets/colab-badge.svg\" alt=\"Open In Colab\"/></a>"
      ]
    },
    {
      "cell_type": "markdown",
      "source": [
        "Mount Drive\n"
      ],
      "metadata": {
        "id": "WMBdRA6kc3yX"
      }
    },
    {
      "cell_type": "code",
      "execution_count": 93,
      "metadata": {
        "colab": {
          "base_uri": "https://localhost:8080/"
        },
        "id": "V9bTDddg5aUt",
        "outputId": "c40489ca-2710-4294-b1ee-98954962fddb"
      },
      "outputs": [
        {
          "output_type": "stream",
          "name": "stdout",
          "text": [
            "Drive already mounted at /content/drive; to attempt to forcibly remount, call drive.mount(\"/content/drive\", force_remount=True).\n"
          ]
        }
      ],
      "source": [
        "from google.colab import drive\n",
        "drive.mount('/content/drive')\n"
      ]
    },
    {
      "cell_type": "markdown",
      "source": [
        "Path Determine"
      ],
      "metadata": {
        "id": "qHOOygYec8VX"
      }
    },
    {
      "cell_type": "code",
      "source": [
        "import os\n",
        "\n",
        "# Change the path to where your zip file is located in Drive\n",
        "dataset_path = '/content/drive/My Drive/Caltech-101/archive (1).zip'\n",
        "\n",
        "# Check if the file exists\n",
        "print(os.path.exists(dataset_path))  # Should return True if the file is found\n"
      ],
      "metadata": {
        "colab": {
          "base_uri": "https://localhost:8080/"
        },
        "id": "KLpdhB436Far",
        "outputId": "bebc4b3f-825f-4bbd-e8c6-52fe86b1c120"
      },
      "execution_count": 94,
      "outputs": [
        {
          "output_type": "stream",
          "name": "stdout",
          "text": [
            "True\n"
          ]
        }
      ]
    },
    {
      "cell_type": "markdown",
      "source": [
        "Unzip File"
      ],
      "metadata": {
        "id": "mgtmVKyIdAVn"
      }
    },
    {
      "cell_type": "code",
      "source": [
        "import zipfile\n",
        "\n",
        "extract_path = '/content/caltech_101'\n",
        "\n",
        "with zipfile.ZipFile(dataset_path, 'r') as zip_ref:\n",
        "    zip_ref.extractall(extract_path)\n",
        "print(\"Extraction Complete!\")\n"
      ],
      "metadata": {
        "colab": {
          "base_uri": "https://localhost:8080/"
        },
        "id": "0Ti8NP4q6aMK",
        "outputId": "043c972c-3744-467b-e106-e3b705583f63"
      },
      "execution_count": 95,
      "outputs": [
        {
          "output_type": "stream",
          "name": "stdout",
          "text": [
            "Extraction Complete!\n"
          ]
        }
      ]
    },
    {
      "cell_type": "markdown",
      "source": [
        "On which file extracted the zip file"
      ],
      "metadata": {
        "id": "rVO4jNq5dFw2"
      }
    },
    {
      "cell_type": "code",
      "source": [
        "print(os.listdir(extract_path))\n"
      ],
      "metadata": {
        "colab": {
          "base_uri": "https://localhost:8080/"
        },
        "id": "mDhSUbzY7BLJ",
        "outputId": "18574b7a-0e2c-4188-cf99-6e4f2a18b70c"
      },
      "execution_count": 96,
      "outputs": [
        {
          "output_type": "stream",
          "name": "stdout",
          "text": [
            "['caltech-101']\n"
          ]
        }
      ]
    },
    {
      "cell_type": "markdown",
      "source": [
        "Load the dataset"
      ],
      "metadata": {
        "id": "UkY86icldPmB"
      }
    },
    {
      "cell_type": "code",
      "source": [
        "##Load the dataset\n",
        "from torchvision import datasets, transforms\n",
        "transform = transforms.Compose([\n",
        "transforms.Resize((128, 128)),\n",
        "transforms.RandomHorizontalFlip(),\n",
        "transforms.RandomVerticalFlip(),\n",
        "transforms.RandomRotation(30),\n",
        "transforms.ColorJitter(brightness=0.4, contrast=0.4,\n",
        "saturation=0.4, hue=0.1),\n",
        "transforms.RandomAffine(degrees=15, translate=(0.1, 0.1),\n",
        "scale=(0.9, 1.1)),\n",
        "transforms.RandomGrayscale(p=0.2),\n",
        "transforms.ToTensor(),\n",
        "transforms.Normalize(mean=[0.485, 0.456, 0.406], std=[0.229,\n",
        "0.224, 0.225])\n",
        "])\n",
        "dataset = datasets.ImageFolder(root='/content/caltech_101/caltech-101',\n",
        "transform=transform)"
      ],
      "metadata": {
        "id": "nrPq9GdF7RAD"
      },
      "execution_count": 97,
      "outputs": []
    },
    {
      "cell_type": "markdown",
      "source": [
        "Split Dataset"
      ],
      "metadata": {
        "id": "hpJWgxfxdYKu"
      }
    },
    {
      "cell_type": "code",
      "source": [
        "from torch.utils.data import random_split\n",
        "train_size = int(0.8 * len(dataset))\n",
        "val_size = int(0.1 * len(dataset))\n",
        "test_size = len(dataset) - train_size - val_size\n",
        "train_data, val_data, test_data = random_split(dataset, [train_size,\n",
        "val_size, test_size])"
      ],
      "metadata": {
        "id": "b8-7LD9E8muj"
      },
      "execution_count": 98,
      "outputs": []
    },
    {
      "cell_type": "markdown",
      "source": [
        "Print the valid images"
      ],
      "metadata": {
        "id": "eXLteeJ8dgXY"
      }
    },
    {
      "cell_type": "code",
      "source": [
        "import matplotlib.pyplot as plt\n",
        "import numpy as np\n",
        "import torch\n",
        "from torchvision import utils as vutils\n",
        "\n",
        "# Create a data loader for the training set\n",
        "train_loader = torch.utils.data.DataLoader(train_data, batch_size=4, shuffle=True)\n",
        "\n",
        "# Get a batch of images and labels\n",
        "images, labels = next(iter(train_loader))  # Change here: iterating over train_loader\n",
        "\n",
        "# Display a few images\n",
        "def imshow(img):\n",
        "    img = img / 2 + 0.5  # Unnormalize\n",
        "    npimg = img.numpy()\n",
        "    plt.imshow(np.transpose(npimg, (1, 2, 0)))\n",
        "    plt.show()\n",
        "\n",
        "# Show images\n",
        "imshow(vutils.make_grid(images)) # Change here: Using torchvision.utils.make_grid\n",
        "print(\"Labels:\", labels) # Removed slicing since we have the desired batch size\n"
      ],
      "metadata": {
        "colab": {
          "base_uri": "https://localhost:8080/",
          "height": 226
        },
        "id": "YT7l0ooD8qWz",
        "outputId": "a629f19a-062a-48f7-ef2d-940f63a64afc"
      },
      "execution_count": 99,
      "outputs": [
        {
          "output_type": "stream",
          "name": "stderr",
          "text": [
            "WARNING:matplotlib.image:Clipping input data to the valid range for imshow with RGB data ([0..1] for floats or [0..255] for integers). Got range [-0.558952..1.82].\n"
          ]
        },
        {
          "output_type": "display_data",
          "data": {
            "text/plain": [
              "<Figure size 640x480 with 1 Axes>"
            ],
            "image/png": "[encoded data removed]"
          },
          "metadata": {}
        },
        {
          "output_type": "stream",
          "name": "stdout",
          "text": [
            "Labels: tensor([70, 54,  9, 83])\n"
          ]
        }
      ]
    },
    {
      "cell_type": "markdown",
      "source": [
        "dataset loader for efficient batching"
      ],
      "metadata": {
        "id": "ei6FUNmkdlrf"
      }
    },
    {
      "cell_type": "code",
      "source": [
        "from torch.utils.data import DataLoader\n",
        "train_loader = DataLoader(train_data, batch_size=32, shuffle=True)\n",
        "val_loader = DataLoader(val_data, batch_size=32)\n",
        "test_loader = DataLoader(test_data, batch_size=32)"
      ],
      "metadata": {
        "id": "ZtiIUjYh-oX6"
      },
      "execution_count": 100,
      "outputs": []
    },
    {
      "cell_type": "markdown",
      "source": [
        "Using pre-trained model\n",
        "VGG19 model"
      ],
      "metadata": {
        "id": "k0rQuTlpeBkn"
      }
    },
    {
      "cell_type": "code",
      "source": [
        "\n",
        "\n",
        "import torch.nn as nn\n",
        "from torchvision.models import vgg19\n",
        "\n",
        "# Load the pre-trained VGG19 model\n",
        "model = vgg19(pretrained=True)\n",
        "\n",
        "# Adjust the final layer to output 101 classes\n",
        "model.classifier[6] = nn.Linear(4096, 101)\n"
      ],
      "metadata": {
        "colab": {
          "base_uri": "https://localhost:8080/"
        },
        "id": "C9jQ49Ev-rQR",
        "outputId": "0998d97b-417e-42cb-9138-6ac8f27b556c"
      },
      "execution_count": 101,
      "outputs": [
        {
          "output_type": "stream",
          "name": "stderr",
          "text": [
            "/usr/local/lib/python3.11/dist-packages/torchvision/models/_utils.py:208: UserWarning: The parameter 'pretrained' is deprecated since 0.13 and may be removed in the future, please use 'weights' instead.\n",
            "  warnings.warn(\n",
            "/usr/local/lib/python3.11/dist-packages/torchvision/models/_utils.py:223: UserWarning: Arguments other than a weight enum or `None` for 'weights' are deprecated since 0.13 and may be removed in the future. The current behavior is equivalent to passing `weights=VGG19_Weights.IMAGENET1K_V1`. You can also use `weights=VGG19_Weights.DEFAULT` to get the most up-to-date weights.\n",
            "  warnings.warn(msg)\n"
          ]
        }
      ]
    },
    {
      "cell_type": "markdown",
      "source": [
        "ResNet50 Model"
      ],
      "metadata": {
        "id": "yb-5U-rWeLmP"
      }
    },
    {
      "cell_type": "code",
      "source": [
        "from torchvision.models import resnet50\n",
        "model = resnet50(pretrained=True)\n",
        "\n",
        "model.fc = nn.Linear(2048, 101) # Adjust the final layer for 101 classes"
      ],
      "metadata": {
        "colab": {
          "base_uri": "https://localhost:8080/"
        },
        "id": "o0eIAWxYBa0h",
        "outputId": "329c36fe-55f2-4fc4-895d-5042493c75f6"
      },
      "execution_count": 102,
      "outputs": [
        {
          "output_type": "stream",
          "name": "stderr",
          "text": [
            "/usr/local/lib/python3.11/dist-packages/torchvision/models/_utils.py:223: UserWarning: Arguments other than a weight enum or `None` for 'weights' are deprecated since 0.13 and may be removed in the future. The current behavior is equivalent to passing `weights=ResNet50_Weights.IMAGENET1K_V1`. You can also use `weights=ResNet50_Weights.DEFAULT` to get the most up-to-date weights.\n",
            "  warnings.warn(msg)\n"
          ]
        }
      ]
    },
    {
      "cell_type": "markdown",
      "source": [
        "EfficientNet (efficientNet -B0)"
      ],
      "metadata": {
        "id": "sdWDt_greRxp"
      }
    },
    {
      "cell_type": "code",
      "source": [
        "from torchvision.models import efficientnet_b0\n",
        "model = efficientnet_b0(pretrained=True)\n",
        "model.classifier[1] = nn.Linear(1280, 101) # Adjust the final layer for 101 classes"
      ],
      "metadata": {
        "colab": {
          "base_uri": "https://localhost:8080/"
        },
        "id": "JV9zNEFQBeia",
        "outputId": "3de3758c-6a08-4c78-9f07-4dd01d0bb64f"
      },
      "execution_count": 103,
      "outputs": [
        {
          "output_type": "stream",
          "name": "stderr",
          "text": [
            "/usr/local/lib/python3.11/dist-packages/torchvision/models/_utils.py:223: UserWarning: Arguments other than a weight enum or `None` for 'weights' are deprecated since 0.13 and may be removed in the future. The current behavior is equivalent to passing `weights=EfficientNet_B0_Weights.IMAGENET1K_V1`. You can also use `weights=EfficientNet_B0_Weights.DEFAULT` to get the most up-to-date weights.\n",
            "  warnings.warn(msg)\n"
          ]
        }
      ]
    },
    {
      "cell_type": "markdown",
      "source": [
        "Training the model\n",
        "defining loss and optimizer"
      ],
      "metadata": {
        "id": "vWFDkqlNeZ5G"
      }
    },
    {
      "cell_type": "code",
      "source": [
        "import torch.optim as optim\n",
        "criterion = nn.CrossEntropyLoss()\n",
        "optimizer = optim.Adam(model.parameters(), lr=0.001)"
      ],
      "metadata": {
        "id": "MfgPKMkgVnuM"
      },
      "execution_count": 104,
      "outputs": []
    },
    {
      "cell_type": "markdown",
      "source": [
        "train the model"
      ],
      "metadata": {
        "id": "nGm395TeezK-"
      }
    },
    {
      "cell_type": "code",
      "source": [
        "from torch.utils.data import Dataset\n",
        "\n",
        "class FilteredDataset(Dataset):\n",
        "    def __init__(self, dataset, num_classes):\n",
        "        self.dataset = dataset\n",
        "        self.num_classes = num_classes\n",
        "        self.valid_indices = [\n",
        "            idx for idx, (_, label) in enumerate(dataset) if 0 <= label < num_classes\n",
        "        ]\n",
        "\n",
        "    def __len__(self):\n",
        "        return len(self.valid_indices)\n",
        "\n",
        "    def __getitem__(self, idx):\n",
        "        valid_idx = self.valid_indices[idx]\n",
        "        return self.dataset[valid_idx]\n",
        "\n",
        "# Replace `train_dataset` and `val_dataset` with filtered versions\n",
        "filtered_train_dataset = FilteredDataset(train_data, num_classes=101)\n",
        "filtered_val_dataset = FilteredDataset(val_data, num_classes=101)\n",
        "\n",
        "# Create DataLoaders\n",
        "train_loader = DataLoader(filtered_train_dataset, batch_size=10, shuffle=True, num_workers=4, pin_memory=True)\n",
        "val_loader = DataLoader(filtered_val_dataset, batch_size=10, shuffle=False, num_workers=4, pin_memory=True)"
      ],
      "metadata": {
        "colab": {
          "base_uri": "https://localhost:8080/"
        },
        "id": "lc2dG14JewuY",
        "outputId": "9afd8261-1681-4793-c33c-499b7199efda"
      },
      "execution_count": 105,
      "outputs": [
        {
          "output_type": "stream",
          "name": "stderr",
          "text": [
            "/usr/local/lib/python3.11/dist-packages/torch/utils/data/dataloader.py:617: UserWarning: This DataLoader will create 4 worker processes in total. Our suggested max number of worker in current system is 2, which is smaller than what this DataLoader is going to create. Please be aware that excessive worker creation might get DataLoader running slow or even freeze, lower the worker number to avoid potential slowness/freeze if necessary.\n",
            "  warnings.warn(\n"
          ]
        }
      ]
    },
    {
      "cell_type": "code",
      "source": [
        "for epoch in range(2):\n",
        "    model.train()\n",
        "    for images, labels in train_loader:\n",
        "        optimizer.zero_grad()\n",
        "        outputs = model(images)\n",
        "        loss = criterion(outputs, labels)\n",
        "        loss.backward()\n",
        "        optimizer.step()"
      ],
      "metadata": {
        "id": "cxgsDxbRgVay"
      },
      "execution_count": 106,
      "outputs": []
    },
    {
      "cell_type": "markdown",
      "source": [
        "validate the model"
      ],
      "metadata": {
        "id": "WX2M-tXBe4ve"
      }
    },
    {
      "cell_type": "code",
      "source": [
        "model.eval()\n",
        "with torch.no_grad():\n",
        "     for images, labels in val_loader:\n",
        "         outputs = model(images)\n",
        "# Compute validation metrics"
      ],
      "metadata": {
        "id": "TYCZijzaYu-6"
      },
      "execution_count": 107,
      "outputs": []
    },
    {
      "cell_type": "code",
      "source": [
        "# Previous code (loading dataset, defining model, etc.)\n",
        "\n",
        "# Define Loss and Optimizer\n",
        "import torch.optim as optim\n",
        "criterion = nn.CrossEntropyLoss()\n",
        "optimizer = optim.Adam(model.parameters(), lr=0.001)\n",
        "\n",
        "# Train the Model\n",
        "for epoch in range(2):\n",
        "    model.train()\n",
        "    running_loss = 0.0\n",
        "    for images, labels in train_loader:\n",
        "        optimizer.zero_grad()\n",
        "        outputs = model(images)\n",
        "        loss = criterion(outputs, labels)\n",
        "        loss.backward()\n",
        "        optimizer.step()\n",
        "        running_loss += loss.item()\n",
        "    print(f\"Epoch {epoch+1}, Loss: {running_loss / len(train_loader)}\")\n",
        "\n",
        "# Validate the Model\n",
        "model.eval()\n",
        "total_correct = 0\n",
        "total_samples = 0\n",
        "with torch.no_grad():\n",
        "    for images, labels in val_loader:\n",
        "        outputs = model(images)\n",
        "        _, predictions = torch.max(outputs, 1)\n",
        "        total_correct += (predictions == labels).sum().item()\n",
        "        total_samples += labels.size(0)\n",
        "\n",
        "accuracy = total_correct / total_samples * 100\n",
        "print(f\"Validation Accuracy: {accuracy:.2f}%\")\n"
      ],
      "metadata": {
        "colab": {
          "base_uri": "https://localhost:8080/"
        },
        "id": "g4bpOAu4Bk6L",
        "outputId": "00905146-cd74-4e04-f9f1-0b6f00aff943"
      },
      "execution_count": null,
      "outputs": [
        {
          "output_type": "stream",
          "name": "stdout",
          "text": [
            "Epoch 1, Loss: 1.4502641964688425\n"
          ]
        }
      ]
    },
    {
      "cell_type": "code",
      "source": [
        "# Verify the maximum label value\n",
        "print(\"Max label value in dataset:\", max([label for _, label in dataset]))\n"
      ],
      "metadata": {
        "id": "NLY9k3LBJzo4"
      },
      "execution_count": null,
      "outputs": []
    },
    {
      "cell_type": "markdown",
      "source": [
        "parameter tuning with grid search"
      ],
      "metadata": {
        "id": "qvP6CWi8fJSV"
      }
    },
    {
      "cell_type": "code",
      "source": [
        "from sklearn.model_selection import ParameterGrid\n",
        "param_grid = {\n",
        "'lr': [0.1, 0.01, 0.001],\n",
        "'batch_size': [16, 32, 64]\n",
        "}\n",
        "best_params = None\n",
        "best_accuracy = 0\n",
        "for params in ParameterGrid(param_grid):\n",
        "   optimizer = optim.Adam(model.parameters(), lr=params['lr'])\n",
        "   train_loader = DataLoader(train_data,\n",
        "batch_size=params['batch_size'], shuffle=True)\n",
        "# Perform training and validation here\n",
        "# Compare and store the best parameters based on validation\n",
        "#accuracy\n",
        "print(f\"Best Params: {best_params}\")"
      ],
      "metadata": {
        "id": "ASExO8icLVR1"
      },
      "execution_count": null,
      "outputs": []
    },
    {
      "cell_type": "markdown",
      "source": [
        "Evaluating the model\n",
        "evaluating on test data"
      ],
      "metadata": {
        "id": "JrGVN-vCfQ3H"
      }
    },
    {
      "cell_type": "code",
      "source": [
        "model.eval()\n",
        "\n",
        "with torch.no_grad():\n",
        "    for images, labels in test_loader:\n",
        "        outputs = model(images)\n",
        "# Compute test metrics"
      ],
      "metadata": {
        "id": "od1Cw0IWLwLV"
      },
      "execution_count": null,
      "outputs": []
    },
    {
      "cell_type": "markdown",
      "source": [
        "confusion matrix"
      ],
      "metadata": {
        "id": "owjmEq5KfbcC"
      }
    },
    {
      "cell_type": "code",
      "source": [
        "from sklearn.metrics import confusion_matrix\n",
        "y_pred = []\n",
        "y_true = []\n",
        "with torch.no_grad():\n",
        "     for images, labels in test_loader:\n",
        "         outputs = model(images)\n",
        "         _, preds = torch.max(outputs, 1)\n",
        "         y_pred.extend(preds.numpy())\n",
        "         y_true.extend(labels.numpy())\n",
        "cm = confusion_matrix(y_true, y_pred)\n",
        "print(cm)"
      ],
      "metadata": {
        "id": "4ap3QawLMCXc"
      },
      "execution_count": null,
      "outputs": []
    },
    {
      "cell_type": "markdown",
      "source": [
        "classification report"
      ],
      "metadata": {
        "id": "1_sSXYvSfg3_"
      }
    },
    {
      "cell_type": "code",
      "source": [
        "from sklearn.metrics import classification_report\n",
        "\n",
        "# Get the class names from the dataset\n",
        "class_names = dataset.classes\n",
        "\n",
        "# Now you can use class_names in the classification_report\n",
        "print(classification_report(y_true, y_pred, target_names=class_names))"
      ],
      "metadata": {
        "id": "FVRpnkhvMZFK"
      },
      "execution_count": null,
      "outputs": []
    },
    {
      "cell_type": "markdown",
      "source": [
        "Top-k Accuracy"
      ],
      "metadata": {
        "id": "nOW_VFQ6fj0w"
      }
    },
    {
      "cell_type": "code",
      "source": [
        "#Top-k Accuracy\n",
        "#python\n",
        "def top_k_accuracy(output, target, k=5):\n",
        "   with torch.no_grad():\n",
        "        max_k_preds = torch.topk(output, k, dim=1).indices\n",
        "        correct = max_k_preds.eq(target.view(-1,1).expand_as(max_k_preds))\n",
        "        return correct.any(dim=1).float().mean().item()"
      ],
      "metadata": {
        "id": "pLktmTZHMvxb"
      },
      "execution_count": null,
      "outputs": []
    },
    {
      "cell_type": "markdown",
      "source": [
        "Per-class Accuracy"
      ],
      "metadata": {
        "id": "9liWVBOsfoy6"
      }
    },
    {
      "cell_type": "code",
      "source": [
        "#Per-Class Accuracy\n",
        "#python\n",
        "per_class_accuracy = cm.diagonal() / cm.sum(axis=1)\n",
        "for i, acc in enumerate(per_class_accuracy):\n",
        "    print(f\"Class {class_names[i]} Accuracy: {acc:.2f}\")"
      ],
      "metadata": {
        "id": "_tTg2f_nNMxb"
      },
      "execution_count": null,
      "outputs": []
    },
    {
      "cell_type": "markdown",
      "source": [
        "t-SNE visualization"
      ],
      "metadata": {
        "id": "sQD4gFMZfuZ1"
      }
    },
    {
      "cell_type": "code",
      "source": [
        "#t-SNE Visualization\n",
        "#python\n",
        "from sklearn.manifold import TSNE\n",
        "import matplotlib.pyplot as plt\n",
        "features = []\n",
        "labels_list = []\n",
        "model.eval()\n",
        "with torch.no_grad():\n",
        "     for images, labels in test_loader:\n",
        "         output = model(images)\n",
        "         features.append(output)\n",
        "         labels_list.append(labels)\n",
        "\n",
        "features = torch.cat(features).numpy()\n",
        "labels_list = torch.cat(labels_list).numpy()\n",
        "\n",
        "tsne = TSNE(n_components=2, random_state=42)\n",
        "reduced_features = tsne.fit_transform(features)\n",
        "\n",
        "plt.scatter(reduced_features[:, 0], reduced_features[:, 1],\n",
        "c=labels_list, cmap='tab10')\n",
        "plt.colorbar()\n",
        "plt.show()"
      ],
      "metadata": {
        "id": "-uOnk8qMNcrV"
      },
      "execution_count": null,
      "outputs": []
    },
    {
      "cell_type": "markdown",
      "source": [
        "install grad-cam library"
      ],
      "metadata": {
        "id": "6q-VpSJof5Xp"
      }
    },
    {
      "cell_type": "code",
      "source": [
        "#Part 6: Explainable AI (XAI) with Grad-CAM\n",
        "\n",
        "#Install Grad-CAM Library\n",
        "#Part 6: Explainable AI (XAI) with Grad-CAM\n",
        "\n",
        "#Install Grad-CAM Library\n",
        "#bash\n",
        "\n",
        "!pip install grad-cam"
      ],
      "metadata": {
        "id": "0m2gajyhN__I"
      },
      "execution_count": null,
      "outputs": []
    },
    {
      "cell_type": "markdown",
      "source": [
        "apply grad-cam"
      ],
      "metadata": {
        "id": "GPaJkFF6VnW7"
      }
    },
    {
      "cell_type": "code",
      "source": [
        "from pytorch_grad_cam import GradCAM\n",
        "from pytorch_grad_cam.utils.image import show_cam_on_image\n",
        "import matplotlib.pyplot as plt\n",
        "import numpy as np\n",
        "import torch\n",
        "\n",
        "# ... (rest of your imports) ...\n",
        "\n",
        "# Define device\n",
        "device = torch.device(\"cuda\" if torch.cuda.is_available() else \"cpu\")\n",
        "\n",
        "# ... (previous code) ...\n",
        "\n",
        "# Identify the last convolutional layer for EfficientNet\n",
        "target_layers = [model.features[-1]]  # List of layers as required by the updated API\n",
        "\n",
        "# Instantiate GradCAM without 'use_cuda'\n",
        "cam = GradCAM(model=model, target_layers=target_layers)  # Remove use_cuda\n",
        "\n",
        "# Process images through the test loader\n",
        "for images, labels in test_loader:\n",
        "    images = images.to(device)\n",
        "    labels = labels.to(device)\n",
        "\n",
        "    # Generate Grad-CAM visualization\n",
        "    grayscale_cam = cam(input_tensor=images, targets=None)\n",
        "    for i in range(len(images)):\n",
        "        # Denormalize the image before passing it to show_cam_on_image\n",
        "        denormalized_image = images[i].permute(1, 2, 0).cpu().numpy()\n",
        "        # Assuming your images were normalized using ImageNet stats\n",
        "        mean = [0.485, 0.456, 0.406]\n",
        "        std = [0.229, 0.224, 0.225]\n",
        "        for j in range(3):  # Iterate through RGB channels\n",
        "            denormalized_image[:, :, j] = (denormalized_image[:, :, j] * std[j]) + mean[j]\n",
        "\n",
        "        # Clip pixel values to the [0, 1] range\n",
        "        denormalized_image = np.clip(denormalized_image, 0, 1)\n",
        "\n",
        "        cam_image = show_cam_on_image(\n",
        "            denormalized_image,  # Pass the denormalized image\n",
        "            grayscale_cam[i],\n",
        "            use_rgb=True\n",
        "        )\n",
        "\n",
        "        plt.imshow(cam_image)\n",
        "        plt.axis(\"off\")\n",
        "        plt.show()\n",
        "    break"
      ],
      "metadata": {
        "id": "F9Hd9BZe9ZYq"
      },
      "execution_count": null,
      "outputs": []
    }
  ]
}